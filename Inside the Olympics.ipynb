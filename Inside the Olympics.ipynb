{
 "cells": [
  {
   "cell_type": "markdown",
   "metadata": {},
   "source": [
    "# Inside the Olympics - 120 years of Olympics\n",
    "\n",
    "Juan Pablo Harfush\n",
    "Luis Delfín\n",
    "Gabriel Reynoso"
   ]
  },
  {
   "cell_type": "code",
   "execution_count": null,
   "metadata": {},
   "outputs": [],
   "source": [
    "import pandas as pd\n",
    "import matplotlib.pyplot as plt\n",
    "import numpy as np\n",
    "%matplotlib inline\n",
    "import seaborn as sns"
   ]
  },
  {
   "cell_type": "code",
   "execution_count": null,
   "metadata": {},
   "outputs": [],
   "source": [
    "o = pd.read_csv('athlete_events.csv')\n",
    "o[o['NOC'] == 'BOH']"
   ]
  },
  {
   "cell_type": "code",
   "execution_count": null,
   "metadata": {},
   "outputs": [],
   "source": [
    "o['Medal'].value_counts()"
   ]
  },
  {
   "cell_type": "code",
   "execution_count": null,
   "metadata": {},
   "outputs": [],
   "source": [
    "summer = o[o['Season'] == 'Summer']\n",
    "summer;"
   ]
  },
  {
   "cell_type": "code",
   "execution_count": null,
   "metadata": {},
   "outputs": [],
   "source": [
    "winter = o[o['Season'] == 'Winter']\n",
    "winter;"
   ]
  },
  {
   "cell_type": "code",
   "execution_count": null,
   "metadata": {},
   "outputs": [],
   "source": [
    "medalists = o[o['Medal'] == 'Gold']\n",
    "medalists;"
   ]
  },
  {
   "cell_type": "markdown",
   "metadata": {},
   "source": [
    "## 1 World Domination"
   ]
  },
  {
   "cell_type": "code",
   "execution_count": null,
   "metadata": {},
   "outputs": [],
   "source": []
  },
  {
   "cell_type": "code",
   "execution_count": null,
   "metadata": {},
   "outputs": [],
   "source": []
  },
  {
   "cell_type": "code",
   "execution_count": null,
   "metadata": {},
   "outputs": [],
   "source": []
  },
  {
   "cell_type": "code",
   "execution_count": null,
   "metadata": {},
   "outputs": [],
   "source": []
  },
  {
   "cell_type": "code",
   "execution_count": null,
   "metadata": {},
   "outputs": [],
   "source": []
  },
  {
   "cell_type": "code",
   "execution_count": null,
   "metadata": {},
   "outputs": [],
   "source": []
  },
  {
   "cell_type": "code",
   "execution_count": null,
   "metadata": {},
   "outputs": [],
   "source": []
  },
  {
   "cell_type": "code",
   "execution_count": null,
   "metadata": {},
   "outputs": [],
   "source": []
  },
  {
   "cell_type": "markdown",
   "metadata": {},
   "source": [
    "## 2 Domination by Sport"
   ]
  },
  {
   "cell_type": "code",
   "execution_count": null,
   "metadata": {},
   "outputs": [],
   "source": [
    "countrySport = (\n",
    "    medalists\n",
    "    .groupby(['Sport','NOC'])[\"Medal\"]\n",
    "    .count()\n",
    "    .reset_index()\n",
    "    .groupby('Sport')\n",
    "    .apply(lambda x: x.sort_values(by = 'Medal', ascending=False))\n",
    "    .drop('Sport', axis=1)\n",
    "    .reset_index()\n",
    "    .drop('level_1', axis=1)\n",
    "    .groupby('Sport')\n",
    "    .head(1)\n",
    "    .set_index('Sport')\n",
    ")\n",
    "countrySport;"
   ]
  },
  {
   "cell_type": "markdown",
   "metadata": {},
   "source": [
    "Domination for summer sports."
   ]
  },
  {
   "cell_type": "code",
   "execution_count": null,
   "metadata": {},
   "outputs": [],
   "source": [
    "summer_gold=summer[summer['Medal']=='Gold']"
   ]
  },
  {
   "cell_type": "code",
   "execution_count": null,
   "metadata": {},
   "outputs": [],
   "source": [
    "comp_dom_gold=(\n",
    "    summer_gold\n",
    "    .groupby(['Year','NOC','Sport'])\n",
    "    .count()\n",
    "    .reset_index()\n",
    "    .loc[:,['Year','NOC','Sport','Medal']]\n",
    ")"
   ]
  },
  {
   "cell_type": "code",
   "execution_count": null,
   "metadata": {},
   "outputs": [],
   "source": [
    "comp_sport_dom=(\n",
    "    comp_dom_gold\n",
    "    .groupby(['Year','Sport'])\n",
    "    .apply(lambda x: x.sort_values(by = 'Medal', ascending=False))\n",
    "    .reset_index(drop=True)\n",
    "    .groupby(['Year','Sport'])\n",
    "    .head(1)\n",
    "    .groupby('Sport')\n",
    "    .apply(lambda x: x.sort_values(by = 'Year', ascending=True))\n",
    "    .reset_index(drop=True)   \n",
    ")#.to_csv('comp_sport_som.csv')\n",
    "comp_sport_dom;"
   ]
  },
  {
   "cell_type": "markdown",
   "metadata": {},
   "source": [
    "Domination for winter sports."
   ]
  },
  {
   "cell_type": "code",
   "execution_count": null,
   "metadata": {},
   "outputs": [],
   "source": [
    "winter_gold=winter[winter['Medal']=='Gold']"
   ]
  },
  {
   "cell_type": "code",
   "execution_count": null,
   "metadata": {},
   "outputs": [],
   "source": [
    "comp_dom_gold=(\n",
    "    winter\n",
    "    .groupby(['Year','NOC','Sport'])\n",
    "    .count()\n",
    "    .reset_index()\n",
    "    .loc[:,['Year','NOC','Sport','Medal']]\n",
    ")"
   ]
  },
  {
   "cell_type": "code",
   "execution_count": null,
   "metadata": {},
   "outputs": [],
   "source": [
    "comp_sport_dom=(\n",
    "    comp_dom_gold\n",
    "    .groupby(['Year','Sport'])\n",
    "    .apply(lambda x: x.sort_values(by = 'Medal', ascending=False))\n",
    "    .reset_index(drop=True)\n",
    "    .groupby(['Year','Sport'])\n",
    "    .head(1)\n",
    "    .groupby('Sport')\n",
    "    .apply(lambda x: x.sort_values(by = 'Year', ascending=True))\n",
    "    .reset_index(drop=True)   \n",
    ")"
   ]
  },
  {
   "cell_type": "markdown",
   "metadata": {},
   "source": [
    "## 3 Host's advantages"
   ]
  },
  {
   "cell_type": "code",
   "execution_count": null,
   "metadata": {},
   "outputs": [],
   "source": []
  },
  {
   "cell_type": "code",
   "execution_count": null,
   "metadata": {},
   "outputs": [],
   "source": []
  },
  {
   "cell_type": "code",
   "execution_count": null,
   "metadata": {},
   "outputs": [],
   "source": []
  },
  {
   "cell_type": "code",
   "execution_count": null,
   "metadata": {},
   "outputs": [],
   "source": []
  },
  {
   "cell_type": "code",
   "execution_count": null,
   "metadata": {},
   "outputs": [],
   "source": []
  },
  {
   "cell_type": "code",
   "execution_count": null,
   "metadata": {},
   "outputs": [],
   "source": []
  },
  {
   "cell_type": "code",
   "execution_count": null,
   "metadata": {},
   "outputs": [],
   "source": []
  },
  {
   "cell_type": "markdown",
   "metadata": {},
   "source": [
    "## 4 Female Participants"
   ]
  },
  {
   "cell_type": "markdown",
   "metadata": {},
   "source": [
    "Female Percentage on the Summer Olympics"
   ]
  },
  {
   "cell_type": "code",
   "execution_count": null,
   "metadata": {},
   "outputs": [],
   "source": [
    "pvtPartSummer = summer.pivot_table(index='Year',columns='Sex',values='Medal',aggfunc=lambda x:x.count())\n",
    "pvtPartSummer.drop(index=1896, inplace=True)\n",
    "pvtPartSummer['FP']=pvtPartSummer['F']/(pvtPartSummer['F']+pvtPartSummer['M'])\n",
    "pvtPartSummer;"
   ]
  },
  {
   "cell_type": "code",
   "execution_count": null,
   "metadata": {
    "scrolled": false
   },
   "outputs": [],
   "source": [
    "(\n",
    "    pvtPartSummer['FP']\n",
    "    .plot(x='Year', y='FP', kind='barh', \n",
    "          figsize=[20,15],\n",
    "          fontsize = 20,\n",
    "          title='Percentage of Female Participants on the Summer Olympics')\n",
    ")"
   ]
  },
  {
   "cell_type": "code",
   "execution_count": null,
   "metadata": {},
   "outputs": [],
   "source": [
    "medalists = o[o['Medal'].notna()]\n",
    "#medalists.groupby(['Year','Sex']).head()\n",
    "medalists[['Year','Sex']].sort_values(by='Year').reset_index().drop('index',axis=1);"
   ]
  },
  {
   "cell_type": "code",
   "execution_count": null,
   "metadata": {},
   "outputs": [],
   "source": [
    "pvtMedalists = medalists.pivot_table(index='Year',columns='Sex',values='Medal',aggfunc=lambda x:x.count())\n",
    "pvtMedalists.drop(index=1896, inplace = True)\n",
    "pvtMedalists['FP']=pvtMedalists['F']/(pvtMedalists['F']+pvtMedalists['M'])\n",
    "pvtMedalists;"
   ]
  },
  {
   "cell_type": "code",
   "execution_count": null,
   "metadata": {},
   "outputs": [],
   "source": [
    "(\n",
    "    pvtMedalists['FP']\n",
    "    .plot(x='Year', y='FP', kind='barh', \n",
    "          figsize=[20,15],\n",
    "          fontsize = 20,\n",
    "          title='Percentage of Female Medalist on the Olympics')\n",
    ")"
   ]
  },
  {
   "cell_type": "markdown",
   "metadata": {},
   "source": [
    "Female Percentage on the Winter Olympics"
   ]
  },
  {
   "cell_type": "code",
   "execution_count": null,
   "metadata": {},
   "outputs": [],
   "source": [
    "pvtPartWinter = winter.pivot_table(index='Year',columns='Sex',values='Medal',aggfunc=lambda x:x.count())\n",
    "pvtPartWinter['FP']=pvtPartWinter['F']/(pvtPartWinter['F']+pvtPartWinter['M'])\n",
    "pvtPartWinter;"
   ]
  },
  {
   "cell_type": "code",
   "execution_count": null,
   "metadata": {},
   "outputs": [],
   "source": [
    "(\n",
    "    pvtPartWinter['FP']\n",
    "    .plot(x='Year', y='FP', kind='barh', \n",
    "          figsize=[20,15],\n",
    "          fontsize = 20,\n",
    "          title='Percentage of Female Participants on the Winter Olympics')\n",
    ")"
   ]
  },
  {
   "cell_type": "code",
   "execution_count": null,
   "metadata": {},
   "outputs": [],
   "source": [
    "pvtPruebas = summer.pivot_table(index='Event',columns='Year',values='Medal',aggfunc=lambda x:x.count())\n",
    "pvtPruebas;"
   ]
  },
  {
   "cell_type": "code",
   "execution_count": null,
   "metadata": {},
   "outputs": [],
   "source": [
    "pvtParticipantsCountry = summer.pivot_table(index=['NOC','Year'],columns='Sex',values='Name',aggfunc=lambda x:x.count()).reset_index()\n",
    "pvtParticipantsCountry = pvtParticipantsCountry[(pvtParticipantsCountry['F'].notna()) & (pvtParticipantsCountry['M'].notna())]\n",
    "pvtParticipantsCountry['FP']=pvtParticipantsCountry['F']/(pvtParticipantsCountry['F']+pvtParticipantsCountry['M'])\n",
    "pvtParticipantsCountry = pvtParticipantsCountry.set_index(['NOC', 'Year'])\n",
    "pvtParticipantsCountry.reset_index()#.to_csv('FPPC_summer.csv')"
   ]
  },
  {
   "cell_type": "code",
   "execution_count": null,
   "metadata": {},
   "outputs": [],
   "source": [
    "pvtParticipantsCountry = winter.pivot_table(index=['NOC','Year'],columns='Sex',values='Name',aggfunc=lambda x:x.count()).reset_index()\n",
    "pvtParticipantsCountry = pvtParticipantsCountry[(pvtParticipantsCountry['F'].notna()) & (pvtParticipantsCountry['M'].notna())]\n",
    "pvtParticipantsCountry['FP']=pvtParticipantsCountry['F']/(pvtParticipantsCountry['F']+pvtParticipantsCountry['M'])\n",
    "pvtParticipantsCountry = pvtParticipantsCountry.set_index(['NOC', 'Year'])\n",
    "pvtParticipantsCountry.reset_index()#.to_csv('FPPC_winter.csv')"
   ]
  },
  {
   "cell_type": "code",
   "execution_count": null,
   "metadata": {},
   "outputs": [],
   "source": []
  },
  {
   "cell_type": "markdown",
   "metadata": {},
   "source": [
    "Evolution of female sport events in the olympics."
   ]
  },
  {
   "cell_type": "code",
   "execution_count": null,
   "metadata": {},
   "outputs": [],
   "source": [
    "comp_mujer = (\n",
    "    o[(o['Sex']=='F')]\n",
    "    [['Year','Sport','Name']]\n",
    "    .groupby(['Year'])\n",
    "    .apply(lambda x: x.sort_values(by='Year',ascending=False))\n",
    "    .reset_index(drop=True)\n",
    ")"
   ]
  },
  {
   "cell_type": "code",
   "execution_count": null,
   "metadata": {},
   "outputs": [],
   "source": [
    "comp_mujer.groupby(['Year','Sport']).count().reset_index().groupby('Year').count().drop('Name',axis=1).reset_index().plot(x ='Year', y='Sport', kind='barh', figsize=[25,20], fontsize=15)\n",
    "plt.savefig('Cambio#Deportes.png')"
   ]
  },
  {
   "cell_type": "code",
   "execution_count": null,
   "metadata": {},
   "outputs": [],
   "source": []
  },
  {
   "cell_type": "markdown",
   "metadata": {},
   "source": [
    "## 5 Physical Attributes per Discipline"
   ]
  },
  {
   "cell_type": "markdown",
   "metadata": {},
   "source": [
    "Physical attributes for men in summer."
   ]
  },
  {
   "cell_type": "code",
   "execution_count": null,
   "metadata": {},
   "outputs": [],
   "source": [
    "mens=summer[summer['Sex']=='M']\n",
    "physical_mens = (\n",
    "    mens[['Sport', 'Year', 'Age', 'Height', 'Weight']]\n",
    "    .sort_values(by='Sport')\n",
    "    .set_index('Sport')\n",
    "    .groupby(['Sport', 'Year'])\n",
    "    .mean()\n",
    ")\n",
    "physical_mens = physical_mens[(physical_mens['Height'].notna()) & (physical_mens['Weight'].notna())]\n",
    "physical_mens['BMI']=(physical_mens['Weight']/(physical_mens['Height'].pow(2))*703)\n",
    "physical_mens#.to_csv('ph_men_summer.csv')"
   ]
  },
  {
   "cell_type": "markdown",
   "metadata": {},
   "source": [
    "Physical attributes for women in summer."
   ]
  },
  {
   "cell_type": "code",
   "execution_count": null,
   "metadata": {},
   "outputs": [],
   "source": [
    "fems=summer[summer['Sex']=='F']\n",
    "physical_fems = (\n",
    "    fems[['Sport', 'Year', 'Age', 'Height', 'Weight']]\n",
    "    .sort_values(by='Sport')\n",
    "    .set_index('Sport')\n",
    "    .groupby(['Sport', 'Year'])\n",
    "    .mean()\n",
    ")\n",
    "physical_fems = physical_fems[(physical_fems['Height'].notna()) & (physical_fems['Weight'].notna())]\n",
    "physical_fems['BMI']=(physical_fems['Weight']/(physical_fems['Height'].pow(2))*703)\n",
    "physical_fems#.to_csv('ph_fems_summer.csv')"
   ]
  },
  {
   "cell_type": "markdown",
   "metadata": {},
   "source": [
    "Physical attributes for men in winter."
   ]
  },
  {
   "cell_type": "code",
   "execution_count": null,
   "metadata": {},
   "outputs": [],
   "source": [
    "mens=winter[winter['Sex']=='M']\n",
    "physical_mens = (\n",
    "    mens[['Sport', 'Year', 'Age', 'Height', 'Weight']]\n",
    "    .sort_values(by='Sport')\n",
    "    .set_index('Sport')\n",
    "    .groupby(['Sport', 'Year'])\n",
    "    .mean()\n",
    ")\n",
    "physical_mens = physical_mens[(physical_mens['Height'].notna()) & (physical_mens['Weight'].notna())]\n",
    "physical_mens['BMI']=(physical_mens['Weight']/(physical_mens['Height'].pow(2))*703)\n",
    "physical_mens#.to_csv('ph_mens_winter.csv')"
   ]
  },
  {
   "cell_type": "markdown",
   "metadata": {},
   "source": [
    "Physical attributes for women in winter."
   ]
  },
  {
   "cell_type": "code",
   "execution_count": null,
   "metadata": {},
   "outputs": [],
   "source": [
    "fems=winter[winter['Sex']=='F']\n",
    "physical_fems = (\n",
    "    fems[['Sport', 'Year', 'Age', 'Height', 'Weight']]\n",
    "    .sort_values(by='Sport')\n",
    "    .set_index('Sport')\n",
    "    .groupby(['Sport', 'Year'])\n",
    "    .mean()\n",
    ")\n",
    "physical_fems = physical_fems[(physical_fems['Height'].notna()) & (physical_fems['Weight'].notna())]\n",
    "physical_fems['BMI']=(physical_fems['Weight']/(physical_fems['Height'].pow(2))*703)\n",
    "physical_fems.to_csv('ph_fems_winter.csv')"
   ]
  },
  {
   "cell_type": "code",
   "execution_count": null,
   "metadata": {},
   "outputs": [],
   "source": []
  }
 ],
 "metadata": {
  "kernelspec": {
   "display_name": "Python 3",
   "language": "python",
   "name": "python3"
  },
  "language_info": {
   "codemirror_mode": {
    "name": "ipython",
    "version": 3
   },
   "file_extension": ".py",
   "mimetype": "text/x-python",
   "name": "python",
   "nbconvert_exporter": "python",
   "pygments_lexer": "ipython3",
   "version": "3.6.5"
  }
 },
 "nbformat": 4,
 "nbformat_minor": 2
}
