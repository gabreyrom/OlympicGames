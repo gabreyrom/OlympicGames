{
 "cells": [
  {
   "cell_type": "code",
   "execution_count": 1,
   "metadata": {
    "ExecuteTime": {
     "end_time": "2018-07-23T23:02:57.967233Z",
     "start_time": "2018-07-23T23:02:57.519164Z"
    }
   },
   "outputs": [],
   "source": [
    "import pandas as pd\n",
    "import matplotlib.pyplot as plt\n",
    "import numpy as np"
   ]
  },
  {
   "cell_type": "code",
   "execution_count": 2,
   "metadata": {
    "ExecuteTime": {
     "end_time": "2018-07-23T23:02:59.884871Z",
     "start_time": "2018-07-23T23:02:59.111483Z"
    }
   },
   "outputs": [],
   "source": [
    "#Read Athlete\n",
    "athlete = pd.read_csv('athlete_events.csv')"
   ]
  },
  {
   "cell_type": "code",
   "execution_count": 3,
   "metadata": {
    "ExecuteTime": {
     "end_time": "2018-07-23T23:03:00.362905Z",
     "start_time": "2018-07-23T23:03:00.338518Z"
    }
   },
   "outputs": [
    {
     "data": {
      "text/html": [
       "<div>\n",
       "<style scoped>\n",
       "    .dataframe tbody tr th:only-of-type {\n",
       "        vertical-align: middle;\n",
       "    }\n",
       "\n",
       "    .dataframe tbody tr th {\n",
       "        vertical-align: top;\n",
       "    }\n",
       "\n",
       "    .dataframe thead th {\n",
       "        text-align: right;\n",
       "    }\n",
       "</style>\n",
       "<table border=\"1\" class=\"dataframe\">\n",
       "  <thead>\n",
       "    <tr style=\"text-align: right;\">\n",
       "      <th></th>\n",
       "      <th>ID</th>\n",
       "      <th>Name</th>\n",
       "      <th>Sex</th>\n",
       "      <th>Age</th>\n",
       "      <th>Height</th>\n",
       "      <th>Weight</th>\n",
       "      <th>Team</th>\n",
       "      <th>NOC</th>\n",
       "      <th>Games</th>\n",
       "      <th>Year</th>\n",
       "      <th>Season</th>\n",
       "      <th>City</th>\n",
       "      <th>Sport</th>\n",
       "      <th>Event</th>\n",
       "      <th>Medal</th>\n",
       "    </tr>\n",
       "  </thead>\n",
       "  <tbody>\n",
       "    <tr>\n",
       "      <th>0</th>\n",
       "      <td>1</td>\n",
       "      <td>A Dijiang</td>\n",
       "      <td>M</td>\n",
       "      <td>24.0</td>\n",
       "      <td>180.0</td>\n",
       "      <td>80.0</td>\n",
       "      <td>China</td>\n",
       "      <td>CHN</td>\n",
       "      <td>1992 Summer</td>\n",
       "      <td>1992</td>\n",
       "      <td>Summer</td>\n",
       "      <td>Barcelona</td>\n",
       "      <td>Basketball</td>\n",
       "      <td>Basketball Men's Basketball</td>\n",
       "      <td>NaN</td>\n",
       "    </tr>\n",
       "    <tr>\n",
       "      <th>1</th>\n",
       "      <td>2</td>\n",
       "      <td>A Lamusi</td>\n",
       "      <td>M</td>\n",
       "      <td>23.0</td>\n",
       "      <td>170.0</td>\n",
       "      <td>60.0</td>\n",
       "      <td>China</td>\n",
       "      <td>CHN</td>\n",
       "      <td>2012 Summer</td>\n",
       "      <td>2012</td>\n",
       "      <td>Summer</td>\n",
       "      <td>London</td>\n",
       "      <td>Judo</td>\n",
       "      <td>Judo Men's Extra-Lightweight</td>\n",
       "      <td>NaN</td>\n",
       "    </tr>\n",
       "    <tr>\n",
       "      <th>2</th>\n",
       "      <td>3</td>\n",
       "      <td>Gunnar Nielsen Aaby</td>\n",
       "      <td>M</td>\n",
       "      <td>24.0</td>\n",
       "      <td>NaN</td>\n",
       "      <td>NaN</td>\n",
       "      <td>Denmark</td>\n",
       "      <td>DEN</td>\n",
       "      <td>1920 Summer</td>\n",
       "      <td>1920</td>\n",
       "      <td>Summer</td>\n",
       "      <td>Antwerpen</td>\n",
       "      <td>Football</td>\n",
       "      <td>Football Men's Football</td>\n",
       "      <td>NaN</td>\n",
       "    </tr>\n",
       "    <tr>\n",
       "      <th>3</th>\n",
       "      <td>4</td>\n",
       "      <td>Edgar Lindenau Aabye</td>\n",
       "      <td>M</td>\n",
       "      <td>34.0</td>\n",
       "      <td>NaN</td>\n",
       "      <td>NaN</td>\n",
       "      <td>Denmark/Sweden</td>\n",
       "      <td>DEN</td>\n",
       "      <td>1900 Summer</td>\n",
       "      <td>1900</td>\n",
       "      <td>Summer</td>\n",
       "      <td>Paris</td>\n",
       "      <td>Tug-Of-War</td>\n",
       "      <td>Tug-Of-War Men's Tug-Of-War</td>\n",
       "      <td>Gold</td>\n",
       "    </tr>\n",
       "    <tr>\n",
       "      <th>4</th>\n",
       "      <td>5</td>\n",
       "      <td>Christine Jacoba Aaftink</td>\n",
       "      <td>F</td>\n",
       "      <td>21.0</td>\n",
       "      <td>185.0</td>\n",
       "      <td>82.0</td>\n",
       "      <td>Netherlands</td>\n",
       "      <td>NED</td>\n",
       "      <td>1988 Winter</td>\n",
       "      <td>1988</td>\n",
       "      <td>Winter</td>\n",
       "      <td>Calgary</td>\n",
       "      <td>Speed Skating</td>\n",
       "      <td>Speed Skating Women's 500 metres</td>\n",
       "      <td>NaN</td>\n",
       "    </tr>\n",
       "  </tbody>\n",
       "</table>\n",
       "</div>"
      ],
      "text/plain": [
       "   ID                      Name Sex   Age  Height  Weight            Team  \\\n",
       "0   1                 A Dijiang   M  24.0   180.0    80.0           China   \n",
       "1   2                  A Lamusi   M  23.0   170.0    60.0           China   \n",
       "2   3       Gunnar Nielsen Aaby   M  24.0     NaN     NaN         Denmark   \n",
       "3   4      Edgar Lindenau Aabye   M  34.0     NaN     NaN  Denmark/Sweden   \n",
       "4   5  Christine Jacoba Aaftink   F  21.0   185.0    82.0     Netherlands   \n",
       "\n",
       "   NOC        Games  Year  Season       City          Sport  \\\n",
       "0  CHN  1992 Summer  1992  Summer  Barcelona     Basketball   \n",
       "1  CHN  2012 Summer  2012  Summer     London           Judo   \n",
       "2  DEN  1920 Summer  1920  Summer  Antwerpen       Football   \n",
       "3  DEN  1900 Summer  1900  Summer      Paris     Tug-Of-War   \n",
       "4  NED  1988 Winter  1988  Winter    Calgary  Speed Skating   \n",
       "\n",
       "                              Event Medal  \n",
       "0       Basketball Men's Basketball   NaN  \n",
       "1      Judo Men's Extra-Lightweight   NaN  \n",
       "2           Football Men's Football   NaN  \n",
       "3       Tug-Of-War Men's Tug-Of-War  Gold  \n",
       "4  Speed Skating Women's 500 metres   NaN  "
      ]
     },
     "execution_count": 3,
     "metadata": {},
     "output_type": "execute_result"
    }
   ],
   "source": [
    "athlete.head()"
   ]
  },
  {
   "cell_type": "code",
   "execution_count": 4,
   "metadata": {
    "ExecuteTime": {
     "end_time": "2018-07-23T23:03:01.053807Z",
     "start_time": "2018-07-23T23:03:01.017762Z"
    }
   },
   "outputs": [],
   "source": [
    "#Filter Winter olympics\n",
    "winter=athlete[athlete['Season'] == 'Winter']"
   ]
  },
  {
   "cell_type": "code",
   "execution_count": 5,
   "metadata": {
    "ExecuteTime": {
     "end_time": "2018-07-23T23:03:01.558142Z",
     "start_time": "2018-07-23T23:03:01.544558Z"
    }
   },
   "outputs": [],
   "source": [
    "#3 Dataframe filtering gold, silver and bronze\n",
    "winter_gold_winners=winter[winter['Medal']=='Gold']\n",
    "winter_silver_winners=winter[winter['Medal']=='Silver']\n",
    "winter_bronze_winners=winter[winter['Medal']=='Bronze']"
   ]
  },
  {
   "cell_type": "code",
   "execution_count": 6,
   "metadata": {
    "ExecuteTime": {
     "end_time": "2018-07-23T23:03:02.041113Z",
     "start_time": "2018-07-23T23:03:02.013167Z"
    }
   },
   "outputs": [
    {
     "data": {
      "text/plain": [
       "['Chamonix',\n",
       " 'Sankt Moritz',\n",
       " 'Lake Placid',\n",
       " 'Garmisch-Partenkirchen',\n",
       " 'Sankt Moritz',\n",
       " 'Oslo',\n",
       " \"Cortina d'Ampezzo\",\n",
       " 'Squaw Valley',\n",
       " 'Innsbruck',\n",
       " 'Grenoble',\n",
       " 'Sapporo',\n",
       " 'Innsbruck',\n",
       " 'Lake Placid',\n",
       " 'Sarajevo',\n",
       " 'Calgary',\n",
       " 'Albertville',\n",
       " 'Lillehammer',\n",
       " 'Nagano',\n",
       " 'Salt Lake City',\n",
       " 'Torino',\n",
       " 'Vancouver',\n",
       " 'Sochi']"
      ]
     },
     "execution_count": 6,
     "metadata": {},
     "output_type": "execute_result"
    }
   ],
   "source": [
    "#List of cities that had hosted the winter olympics\n",
    "hosts=(\n",
    "    winter\n",
    "    .groupby('Year')['City']\n",
    "    .unique()\n",
    ")\n",
    "hosts=list(hosts)\n",
    "cities_hosting = []\n",
    "for host in hosts:\n",
    "    cities_hosting.append(host[0])\n",
    "    \n",
    "cities_hosting"
   ]
  },
  {
   "cell_type": "code",
   "execution_count": 7,
   "metadata": {
    "ExecuteTime": {
     "end_time": "2018-07-23T23:03:02.500447Z",
     "start_time": "2018-07-23T23:03:02.472808Z"
    }
   },
   "outputs": [],
   "source": [
    "## We obtain the gold medals column\n",
    "\n",
    "top3_medals_gold=(\n",
    "    winter_gold_winners\n",
    "    .groupby(['Year','NOC','Event'])\n",
    "    .count()\n",
    "    .reset_index()\n",
    "    .loc[:,['Year','NOC','Event']]\n",
    "    .groupby(['Year','NOC'])\n",
    "    .count()\n",
    "    .reset_index()\n",
    "    .sort_values(by=['Year','Event'],ascending=False)\n",
    "    .groupby('Year')\n",
    "    .head(3)\n",
    "    .reset_index(drop=True)\n",
    "    # .groupby('Year')\n",
    "    # .plot.bar(x='Year',figsize=(20,10))\n",
    ")\n",
    "\n",
    "top3_medals_gold=top3_medals_gold.rename(columns = {'Event':'Gold'})\n",
    "# print(medals_gold)\n",
    "\n",
    "top3_medals_guia = top3_medals_gold.drop('Gold',axis=1)\n",
    "\n"
   ]
  },
  {
   "cell_type": "code",
   "execution_count": 10,
   "metadata": {
    "ExecuteTime": {
     "end_time": "2018-07-23T23:03:25.644213Z",
     "start_time": "2018-07-23T23:03:25.613682Z"
    }
   },
   "outputs": [],
   "source": [
    "## We obtain the silver medals column\n",
    "\n",
    "top3_medals_silver=(\n",
    "    winter_silver_winners\n",
    "    .groupby(['Year','NOC','Event'])\n",
    "    .count()\n",
    "    .reset_index()\n",
    "    .loc[:,['Year','NOC','Event']]\n",
    "    .groupby(['Year','NOC'])\n",
    "    .count()\n",
    "    .reset_index()\n",
    "    .sort_values(by=['Year','Event'],ascending=False)\n",
    "\n",
    "    # .groupby('Year')\n",
    "    # .plot.bar(x='Year',figsize=(20,10))\n",
    ")\n",
    "\n",
    "top3_medals_silver=top3_medals_silver.rename(columns = {'Event':'Silver'})\n",
    "\n",
    "keys = list(top3_medals_guia.columns.values)\n",
    "i1 = top3_medals_silver.set_index(keys).index\n",
    "i2 = top3_medals_guia.set_index(keys).index\n",
    "top3_medals_silver_guia=top3_medals_silver[i1.isin(i2)]\n",
    "top3_medals_silver_guia=top3_medals_silver_guia.reset_index(drop=True)\n",
    "# medals_silver_guia"
   ]
  },
  {
   "cell_type": "code",
   "execution_count": 14,
   "metadata": {
    "ExecuteTime": {
     "end_time": "2018-07-23T23:04:06.323016Z",
     "start_time": "2018-07-23T23:04:06.292477Z"
    }
   },
   "outputs": [],
   "source": [
    "## We obtain the bronze medals column\n",
    "\n",
    "top3_medals_bronze=(\n",
    "    winter_bronze_winners\n",
    "    .groupby(['Year','NOC','Event'])\n",
    "    .count()\n",
    "    .reset_index()\n",
    "    .loc[:,['Year','NOC','Event']]\n",
    "    .groupby(['Year','NOC'])\n",
    "    .count()\n",
    "    .reset_index()\n",
    "    .sort_values(by=['Year','Event'],ascending=False)\n",
    "\n",
    "    # .groupby('Year')\n",
    "    # .plot.bar(x='Year',figsize=(20,10))\n",
    ")\n",
    "\n",
    "top3_medals_bronze=top3_medals_bronze.rename(columns = {'Event':'Bronze'})\n",
    "\n",
    "keys = list(top3_medals_guia.columns.values)\n",
    "i1 = top3_medals_bronze.set_index(keys).index\n",
    "i2 = top3_medals_guia.set_index(keys).index\n",
    "top3_medals_bronze_guia=top3_medals_bronze[i1.isin(i2)]\n",
    "\n",
    "top3_medals_bronze_guia=top3_medals_bronze_guia.reset_index(drop=True)\n",
    "# medals_bronze_guia"
   ]
  },
  {
   "cell_type": "code",
   "execution_count": 15,
   "metadata": {
    "ExecuteTime": {
     "end_time": "2018-07-23T23:04:07.641349Z",
     "start_time": "2018-07-23T23:04:07.625458Z"
    }
   },
   "outputs": [],
   "source": [
    "#FINAL DATAFRAME WITH the top 3 finalists of the medal table of summer olympics through time\n",
    "top3_medallero=top3_medals_gold.merge(top3_medals_silver_guia,on=['Year','NOC'],how='outer').merge(top3_medals_bronze_guia,on=['Year','NOC'],how='outer').fillna(0)\n",
    "# print(top3_medallero)\n",
    "top3_medallero['Silver']=top3_medallero['Silver'].astype(int)\n",
    "top3_medallero['Bronze']=top3_medallero['Bronze'].astype(int)\n",
    "# print(medallero)"
   ]
  },
  {
   "cell_type": "code",
   "execution_count": 16,
   "metadata": {
    "ExecuteTime": {
     "end_time": "2018-07-23T23:04:08.006808Z",
     "start_time": "2018-07-23T23:04:07.993289Z"
    }
   },
   "outputs": [],
   "source": [
    "#Sorted Dataframe by gold, silver and bronze (That order)\n",
    "top3_medallero = top3_medallero.sort_values(by = ['Year','Gold','Silver','Bronze'],ascending = False)"
   ]
  },
  {
   "cell_type": "code",
   "execution_count": 17,
   "metadata": {
    "ExecuteTime": {
     "end_time": "2018-07-23T23:04:08.499973Z",
     "start_time": "2018-07-23T23:04:08.414858Z"
    }
   },
   "outputs": [
    {
     "name": "stdout",
     "output_type": "stream",
     "text": [
      "    Year  NOC  Gold  Silver  Bronze\n",
      "64  1924  NOR     4       7       6\n",
      "63  1924  FIN     4       4       3\n",
      "65  1924  AUT     2       1       0\n",
      "    Year  NOC  Gold  Silver  Bronze\n",
      "60  1928  NOR     6       4       5\n",
      "62  1928  SWE     2       2       1\n",
      "61  1928  FIN     2       1       1\n",
      "    Year  NOC  Gold  Silver  Bronze\n",
      "57  1932  USA     6       4       2\n",
      "58  1932  NOR     3       4       3\n",
      "59  1932  AUT     1       1       0\n",
      "    Year  NOC  Gold  Silver  Bronze\n",
      "54  1936  NOR     7       5       3\n",
      "55  1936  GER     3       3       0\n",
      "56  1936  SWE     2       2       3\n",
      "    Year  NOC  Gold  Silver  Bronze\n",
      "51  1948  NOR     4       3       3\n",
      "52  1948  SWE     4       3       3\n",
      "53  1948  SUI     3       4       2\n",
      "    Year  NOC  Gold  Silver  Bronze\n",
      "48  1952  NOR     7       3       6\n",
      "49  1952  USA     4       6       1\n",
      "50  1952  FIN     3       4       2\n",
      "    Year  NOC  Gold  Silver  Bronze\n",
      "45  1956  URS     6       3       6\n",
      "46  1956  AUT     4       3       4\n",
      "47  1956  FIN     3       3       1\n",
      "    Year  NOC  Gold  Silver  Bronze\n",
      "42  1960  URS     7       5       9\n",
      "43  1960  GER     4       3       1\n",
      "44  1960  NOR     3       3       0\n",
      "    Year  NOC  Gold  Silver  Bronze\n",
      "39  1964  URS    11       7       6\n",
      "40  1964  AUT     4       5       3\n",
      "41  1964  FIN     3       4       3\n",
      "    Year  NOC  Gold  Silver  Bronze\n",
      "36  1968  NOR     6       6       2\n",
      "37  1968  URS     5       5       3\n",
      "38  1968  FRA     4       3       2\n",
      "    Year  NOC  Gold  Silver  Bronze\n",
      "33  1972  URS     8       5       3\n",
      "34  1972  GDR     4       3       7\n",
      "35  1972  NED     4       3       2\n",
      "    Year  NOC  Gold  Silver  Bronze\n",
      "30  1976  URS    13       6       8\n",
      "31  1976  GDR     7       5       7\n",
      "32  1976  NOR     3       3       1\n",
      "    Year  NOC  Gold  Silver  Bronze\n",
      "27  1980  URS    10       6       6\n",
      "28  1980  GDR     9       7       7\n",
      "29  1980  USA     6       4       2\n",
      "    Year  NOC  Gold  Silver  Bronze\n",
      "24  1984  GDR     9       9       6\n",
      "25  1984  URS     6      10       9\n",
      "26  1984  FIN     4       3       6\n",
      "    Year  NOC  Gold  Silver  Bronze\n",
      "21  1988  URS    11       9       9\n",
      "22  1988  GDR     9      10       6\n",
      "23  1988  SUI     5       5       5\n",
      "    Year  NOC  Gold  Silver  Bronze\n",
      "18  1992  GER    10      10       6\n",
      "19  1992  EUN     9       6       8\n",
      "20  1992  NOR     7       5       5\n",
      "    Year  NOC  Gold  Silver  Bronze\n",
      "15  1994  RUS    11       8       4\n",
      "16  1994  GER     9       7       8\n",
      "17  1994  NOR     8      10       5\n",
      "    Year  NOC  Gold  Silver  Bronze\n",
      "12  1998  GER    12       9       8\n",
      "13  1998  RUS     9       6       3\n",
      "14  1998  NOR     8       9       5\n",
      "    Year  NOC  Gold  Silver  Bronze\n",
      "9   2002  GER    12      16       8\n",
      "10  2002  NOR    12       5       7\n",
      "11  2002  USA    10      13      11\n",
      "   Year  NOC  Gold  Silver  Bronze\n",
      "6  2006  GER    11      12       6\n",
      "8  2006  USA     9       9       7\n",
      "7  2006  AUT     9       7       7\n",
      "   Year  NOC  Gold  Silver  Bronze\n",
      "3  2010  CAN    14       7       5\n",
      "4  2010  GER    10      13       7\n",
      "5  2010  NOR     9       8       6\n",
      "   Year  NOC  Gold  Silver  Bronze\n",
      "0  2014  RUS    13      11       9\n",
      "1  2014  NOR    11       5      10\n",
      "2  2014  CAN    10      10       5\n"
     ]
    }
   ],
   "source": [
    "#Create lists or arrays of all the top3 finishers through time for plotting\n",
    "ganadores=(\n",
    "    top3_medallero\n",
    "    .groupby('Year')\n",
    "    # .plot.bar(x='Year',figsize=(20,10))\n",
    ")\n",
    "\n",
    "number_first_places_gold=[]\n",
    "number_second_places_gold=[]\n",
    "number_third_places_gold=[]\n",
    "\n",
    "number_first_places_silver=[]\n",
    "number_second_places_silver=[]\n",
    "number_third_places_silver=[]\n",
    "\n",
    "number_first_places_bronze=[]\n",
    "number_second_places_bronze=[]\n",
    "number_third_places_bronze=[]\n",
    "\n",
    "names_first_places=[]\n",
    "names_second_places=[]\n",
    "names_third_places=[]\n",
    "\n",
    "years=[]\n",
    "\n",
    "for year in ganadores:\n",
    "    print(year[1])\n",
    "    years.append(year[0])\n",
    "    names_first_places.append(year[1].iloc[0,1])\n",
    "    names_second_places.append(year[1].iloc[1,1])\n",
    "    names_third_places.append(year[1].iloc[2,1])\n",
    "    number_first_places_gold.append(year[1].iloc[0,2])\n",
    "    number_second_places_gold.append(year[1].iloc[1,2])\n",
    "    number_third_places_gold.append(year[1].iloc[2,2])\n",
    "    number_first_places_silver.append(year[1].iloc[0,3])\n",
    "    number_second_places_silver.append(year[1].iloc[1,3])\n",
    "    number_third_places_silver.append(year[1].iloc[2,3])\n",
    "    number_first_places_bronze.append(year[1].iloc[0,4])\n",
    "    number_second_places_bronze.append(year[1].iloc[1,4])\n",
    "    number_third_places_bronze.append(year[1].iloc[2,4])\n",
    "    "
   ]
  },
  {
   "cell_type": "code",
   "execution_count": 18,
   "metadata": {
    "ExecuteTime": {
     "end_time": "2018-07-23T23:04:08.923816Z",
     "start_time": "2018-07-23T23:04:08.915120Z"
    }
   },
   "outputs": [
    {
     "data": {
      "text/plain": [
       "['1924\\nChamonix',\n",
       " '1928\\nSankt Moritz',\n",
       " '1932\\nLake Placid',\n",
       " '1936\\nGarmisch-Partenkirchen',\n",
       " '1948\\nSankt Moritz',\n",
       " '1952\\nOslo',\n",
       " \"1956\\nCortina d'Ampezzo\",\n",
       " '1960\\nSquaw Valley',\n",
       " '1964\\nInnsbruck',\n",
       " '1968\\nGrenoble',\n",
       " '1972\\nSapporo',\n",
       " '1976\\nInnsbruck',\n",
       " '1980\\nLake Placid',\n",
       " '1984\\nSarajevo',\n",
       " '1988\\nCalgary',\n",
       " '1992\\nAlbertville',\n",
       " '1994\\nLillehammer',\n",
       " '1998\\nNagano',\n",
       " '2002\\nSalt Lake City',\n",
       " '2006\\nTorino',\n",
       " '2010\\nVancouver',\n",
       " '2014\\nSochi']"
      ]
     },
     "execution_count": 18,
     "metadata": {},
     "output_type": "execute_result"
    }
   ],
   "source": [
    "#Labels of the final graph\n",
    "labels_graph = []\n",
    "for i in range(0,len(years)):\n",
    "    text = str(years[i])+ '\\n' + cities_hosting[i]\n",
    "    labels_graph.append(text)\n",
    "\n",
    "labels_graph"
   ]
  },
  {
   "cell_type": "code",
   "execution_count": 19,
   "metadata": {
    "ExecuteTime": {
     "end_time": "2018-07-23T23:04:11.536364Z",
     "start_time": "2018-07-23T23:04:09.310794Z"
    }
   },
   "outputs": [
    {
     "data": {
      "image/png": "[encoded data removed]",
      "text/plain": [
       "<Figure size 10800x1800 with 1 Axes>"
      ]
     },
     "metadata": {},
     "output_type": "display_data"
    }
   ],
   "source": [
    "#FINAL GRAPH, each group of bars represent and olympic winter game, the yellow ones are the number of golds, silver\n",
    "#the number of silver medals, and brown for bronze medals, the countries are sorted by gold medals, then by silver and\n",
    "#finally bronze, you can also see the code of each country instead of the name, each year has the name of the city that\n",
    "#hosted that olympic winter game\n",
    "fig = plt.figure()\n",
    "ax = fig.add_subplot(111)\n",
    "\n",
    "fig.set_figheight(25)\n",
    "fig.set_figwidth(150)\n",
    "\n",
    "N = 22\n",
    "ind = np.arange(0,N*2,2)  # the x locations for the groups\n",
    "width = 0.14\n",
    "\n",
    "rects_first_gold = ax.bar(ind, number_first_places_gold, width, color='gold')\n",
    "rects_first_silver = ax.bar(ind+width, number_first_places_silver, width, color='silver')\n",
    "rects_first_bronze = ax.bar(ind+width*2,number_first_places_bronze, width, color='brown')\n",
    "\n",
    "rects_second_gold = ax.bar(ind+width*3, number_second_places_gold, width, color='gold')\n",
    "rects_second_silver = ax.bar(ind+width*4, number_second_places_silver, width, color='silver')\n",
    "rects_second_bronze = ax.bar(ind+width*5,number_second_places_bronze, width, color='brown')\n",
    "\n",
    "rects_third_gold = ax.bar(ind+width*6, number_third_places_gold, width, color='gold')\n",
    "rects_third_silver = ax.bar(ind+width*7, number_third_places_silver, width, color='silver')\n",
    "rects_third_bronze = ax.bar(ind+width*8,number_third_places_bronze, width, color='brown')\n",
    "\n",
    "ax.set_ylabel('Medals')\n",
    "ax.set_xticks(ind+width)\n",
    "ax.set_xticklabels( labels_graph )\n",
    "ax.legend( (rects_first_gold[0], rects_first_silver[0], rects_first_bronze[0]), ('First', 'Second', 'Third') )\n",
    "\n",
    "def autolabel(rects,labels):\n",
    "    for i in range(0,len(rects)):\n",
    "        h = rects[i].get_height()\n",
    "        text = labels[i]\n",
    "        ax.text(rects[i].get_x()+rects[i].get_width()/2., 1.01*h, text,\n",
    "                ha='center', va='bottom')\n",
    "    \n",
    "autolabel(rects_first_gold,names_first_places)\n",
    "autolabel(rects_second_gold,names_second_places)\n",
    "autolabel(rects_third_gold,names_third_places)\n",
    "\n"
   ]
  },
  {
   "cell_type": "code",
   "execution_count": null,
   "metadata": {},
   "outputs": [],
   "source": []
  }
 ],
 "metadata": {
  "kernelspec": {
   "display_name": "Python 3",
   "language": "python",
   "name": "python3"
  },
  "language_info": {
   "codemirror_mode": {
    "name": "ipython",
    "version": 3
   },
   "file_extension": ".py",
   "mimetype": "text/x-python",
   "name": "python",
   "nbconvert_exporter": "python",
   "pygments_lexer": "ipython3",
   "version": "3.6.5"
  }
 },
 "nbformat": 4,
 "nbformat_minor": 2
}
